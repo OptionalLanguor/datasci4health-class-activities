{
 "cells": [
  {
   "cell_type": "markdown",
   "id": "eastern-spain",
   "metadata": {},
   "source": [
    "Unicamp - MO826 - Ciência e Visualização de Dados em Saúde\n",
    "\n",
    "Felipe Marinho Tavares\n",
    "\n",
    "RA: 265680\n",
    "\n",
    "Laboratório #1\n",
    "\n",
    "---"
   ]
  },
  {
   "cell_type": "markdown",
   "id": "incorporate-heaven",
   "metadata": {},
   "source": [
    "Segunda parte do laboratório 1 usando linguagem python e ferramenta pandas."
   ]
  },
  {
   "cell_type": "code",
   "execution_count": 1,
   "id": "empty-shopping",
   "metadata": {},
   "outputs": [],
   "source": [
    "import pandas as pd"
   ]
  },
  {
   "cell_type": "markdown",
   "id": "noble-sapphire",
   "metadata": {},
   "source": [
    "### Lendo o arquivo `ebmocsna.csv`"
   ]
  },
  {
   "cell_type": "code",
   "execution_count": 2,
   "id": "violent-breathing",
   "metadata": {},
   "outputs": [
    {
     "data": {
      "text/html": [
       "<div>\n",
       "<style scoped>\n",
       "    .dataframe tbody tr th:only-of-type {\n",
       "        vertical-align: middle;\n",
       "    }\n",
       "\n",
       "    .dataframe tbody tr th {\n",
       "        vertical-align: top;\n",
       "    }\n",
       "\n",
       "    .dataframe thead th {\n",
       "        text-align: right;\n",
       "    }\n",
       "</style>\n",
       "<table border=\"1\" class=\"dataframe\">\n",
       "  <thead>\n",
       "    <tr style=\"text-align: right;\">\n",
       "      <th></th>\n",
       "      <th>x1</th>\n",
       "      <th>x2</th>\n",
       "      <th>x3</th>\n",
       "      <th>x4</th>\n",
       "      <th>y1</th>\n",
       "      <th>y2</th>\n",
       "      <th>y3</th>\n",
       "      <th>y4</th>\n",
       "    </tr>\n",
       "  </thead>\n",
       "  <tbody>\n",
       "    <tr>\n",
       "      <th>0</th>\n",
       "      <td>10</td>\n",
       "      <td>10</td>\n",
       "      <td>10</td>\n",
       "      <td>8</td>\n",
       "      <td>8.04</td>\n",
       "      <td>9.14</td>\n",
       "      <td>7.46</td>\n",
       "      <td>6.58</td>\n",
       "    </tr>\n",
       "    <tr>\n",
       "      <th>1</th>\n",
       "      <td>8</td>\n",
       "      <td>8</td>\n",
       "      <td>8</td>\n",
       "      <td>8</td>\n",
       "      <td>6.95</td>\n",
       "      <td>8.14</td>\n",
       "      <td>6.77</td>\n",
       "      <td>5.76</td>\n",
       "    </tr>\n",
       "    <tr>\n",
       "      <th>2</th>\n",
       "      <td>13</td>\n",
       "      <td>13</td>\n",
       "      <td>13</td>\n",
       "      <td>8</td>\n",
       "      <td>7.58</td>\n",
       "      <td>8.74</td>\n",
       "      <td>12.74</td>\n",
       "      <td>7.71</td>\n",
       "    </tr>\n",
       "    <tr>\n",
       "      <th>3</th>\n",
       "      <td>9</td>\n",
       "      <td>9</td>\n",
       "      <td>9</td>\n",
       "      <td>8</td>\n",
       "      <td>8.81</td>\n",
       "      <td>8.77</td>\n",
       "      <td>7.11</td>\n",
       "      <td>8.84</td>\n",
       "    </tr>\n",
       "    <tr>\n",
       "      <th>4</th>\n",
       "      <td>11</td>\n",
       "      <td>11</td>\n",
       "      <td>11</td>\n",
       "      <td>8</td>\n",
       "      <td>8.33</td>\n",
       "      <td>9.26</td>\n",
       "      <td>7.81</td>\n",
       "      <td>8.47</td>\n",
       "    </tr>\n",
       "    <tr>\n",
       "      <th>5</th>\n",
       "      <td>14</td>\n",
       "      <td>14</td>\n",
       "      <td>14</td>\n",
       "      <td>8</td>\n",
       "      <td>9.96</td>\n",
       "      <td>8.10</td>\n",
       "      <td>8.84</td>\n",
       "      <td>7.04</td>\n",
       "    </tr>\n",
       "    <tr>\n",
       "      <th>6</th>\n",
       "      <td>6</td>\n",
       "      <td>6</td>\n",
       "      <td>6</td>\n",
       "      <td>8</td>\n",
       "      <td>7.24</td>\n",
       "      <td>6.13</td>\n",
       "      <td>6.08</td>\n",
       "      <td>5.25</td>\n",
       "    </tr>\n",
       "    <tr>\n",
       "      <th>7</th>\n",
       "      <td>4</td>\n",
       "      <td>4</td>\n",
       "      <td>4</td>\n",
       "      <td>19</td>\n",
       "      <td>4.26</td>\n",
       "      <td>3.10</td>\n",
       "      <td>5.39</td>\n",
       "      <td>12.50</td>\n",
       "    </tr>\n",
       "    <tr>\n",
       "      <th>8</th>\n",
       "      <td>12</td>\n",
       "      <td>12</td>\n",
       "      <td>12</td>\n",
       "      <td>8</td>\n",
       "      <td>10.84</td>\n",
       "      <td>9.13</td>\n",
       "      <td>8.15</td>\n",
       "      <td>5.56</td>\n",
       "    </tr>\n",
       "    <tr>\n",
       "      <th>9</th>\n",
       "      <td>7</td>\n",
       "      <td>7</td>\n",
       "      <td>7</td>\n",
       "      <td>8</td>\n",
       "      <td>4.82</td>\n",
       "      <td>7.26</td>\n",
       "      <td>6.42</td>\n",
       "      <td>7.91</td>\n",
       "    </tr>\n",
       "    <tr>\n",
       "      <th>10</th>\n",
       "      <td>5</td>\n",
       "      <td>5</td>\n",
       "      <td>5</td>\n",
       "      <td>8</td>\n",
       "      <td>5.68</td>\n",
       "      <td>4.74</td>\n",
       "      <td>5.73</td>\n",
       "      <td>6.89</td>\n",
       "    </tr>\n",
       "  </tbody>\n",
       "</table>\n",
       "</div>"
      ],
      "text/plain": [
       "    x1  x2  x3  x4     y1    y2     y3     y4\n",
       "0   10  10  10   8   8.04  9.14   7.46   6.58\n",
       "1    8   8   8   8   6.95  8.14   6.77   5.76\n",
       "2   13  13  13   8   7.58  8.74  12.74   7.71\n",
       "3    9   9   9   8   8.81  8.77   7.11   8.84\n",
       "4   11  11  11   8   8.33  9.26   7.81   8.47\n",
       "5   14  14  14   8   9.96  8.10   8.84   7.04\n",
       "6    6   6   6   8   7.24  6.13   6.08   5.25\n",
       "7    4   4   4  19   4.26  3.10   5.39  12.50\n",
       "8   12  12  12   8  10.84  9.13   8.15   5.56\n",
       "9    7   7   7   8   4.82  7.26   6.42   7.91\n",
       "10   5   5   5   8   5.68  4.74   5.73   6.89"
      ]
     },
     "execution_count": 2,
     "metadata": {},
     "output_type": "execute_result"
    }
   ],
   "source": [
    "data = pd.read_csv(\"ebmocsna.csv\")\n",
    "data"
   ]
  },
  {
   "cell_type": "markdown",
   "id": "found-divide",
   "metadata": {
    "scrolled": true
   },
   "source": [
    "### Calculando a média de `x1-3`, `x4`, `y1`, `y2`, `y3`, e `y4`.\n",
    "\n",
    "(Usando como referência: https://pandas.pydata.org/pandas-docs/stable/user_guide/basics.html)"
   ]
  },
  {
   "cell_type": "code",
   "execution_count": 3,
   "id": "russian-pencil",
   "metadata": {
    "scrolled": true
   },
   "outputs": [
    {
     "name": "stdout",
     "output_type": "stream",
     "text": [
      "mean(x1-3): 9.0\n",
      "mean(x4): 9.0\n",
      "mean(y1): 7.500909090909093\n",
      "mean(y2): 7.50090909090909\n",
      "mean(y3): 7.5\n",
      "mean(y4): 7.500909090909091\n"
     ]
    }
   ],
   "source": [
    "print(f\"mean(x1-3): {data['x1'].mean()}\")\n",
    "print(f\"mean(x4): {data['x4'].mean()}\")\n",
    "print(f\"mean(y1): {data['y1'].mean()}\")\n",
    "print(f\"mean(y2): {data['y2'].mean()}\")\n",
    "print(f\"mean(y3): {data['y3'].mean()}\")\n",
    "print(f\"mean(y4): {data['y4'].mean()}\")"
   ]
  },
  {
   "cell_type": "markdown",
   "id": "seasonal-election",
   "metadata": {},
   "source": [
    "### Calculando as correlações `x1y1`, `x2y2`, `x3y3`, e `x4y4`.\n",
    "\n",
    "(Usando como referência: https://stackoverflow.com/questions/42579908/use-corr-to-get-the-correlation-between-two-columns)"
   ]
  },
  {
   "cell_type": "code",
   "execution_count": 4,
   "id": "satisfied-assistant",
   "metadata": {
    "scrolled": true
   },
   "outputs": [
    {
     "name": "stdout",
     "output_type": "stream",
     "text": [
      "corr(x1y1): 0.81642051634484\n",
      "corr(x2y2): 0.8162365060002428\n",
      "corr(x3y3): 0.8162867394895984\n",
      "corr(x4y4): 0.8165214368885028\n"
     ]
    }
   ],
   "source": [
    "print(f\"corr(x1y1): {data['x1'].corr(data['y1'])}\")\n",
    "print(f\"corr(x2y2): {data['x2'].corr(data['y2'])}\")\n",
    "print(f\"corr(x3y3): {data['x3'].corr(data['y3'])}\")\n",
    "print(f\"corr(x4y4): {data['x4'].corr(data['y4'])}\")"
   ]
  },
  {
   "cell_type": "markdown",
   "id": "bearing-deadline",
   "metadata": {},
   "source": [
    "É possível dizer que os valores ficaram próximos com os obtidos na etapa 1 mas calculados com menos precisão:\n",
    "\n",
    "```text\n",
    "corr(x1y1): 0.816\n",
    "corr(x2y2): 0.816\n",
    "corr(x3y3): 0.816\n",
    "corr(x4y4): 0.817\n",
    "```"
   ]
  },
  {
   "cell_type": "markdown",
   "id": "classified-blade",
   "metadata": {},
   "source": [
    "Com os resultados obtidos parecidos dos dois métodos, é possível dizer ser esperado que os quatro conjuntos de dados correspondem ao mesmo fenômeno por possuírem valores positivos próximos de 1."
   ]
  },
  {
   "cell_type": "markdown",
   "id": "supreme-credit",
   "metadata": {},
   "source": [
    "Como reflexão dos dois métodos, o uso de biblioteca \"pandas\" simplifica e facilita muito o acesso e prática desse tipo analise estatística. Para comparação, durante a primeira etapa calculei primeiro todas as médias, depois o númerador e denominador da equação de correlação, um processo demorado e que na primeira vez que executei zerou os resultados. Revisando ainda na etapa 1 encontrei meu erro na ordem das operações para obter a correlação, mas é um processo que demanda atenção pela manipulação dos vários dados e que é propício ao erro. Na segunda etapa com auxílio da biblioteca Python e ambiente Google Colab é bem difícil haver espaço para erro, uma vez que os métodos já estão implementados."
   ]
  }
 ],
 "metadata": {
  "kernelspec": {
   "display_name": "Python 3",
   "language": "python",
   "name": "python3"
  },
  "language_info": {
   "codemirror_mode": {
    "name": "ipython",
    "version": 3
   },
   "file_extension": ".py",
   "mimetype": "text/x-python",
   "name": "python",
   "nbconvert_exporter": "python",
   "pygments_lexer": "ipython3",
   "version": "3.7.9"
  }
 },
 "nbformat": 4,
 "nbformat_minor": 5
}
